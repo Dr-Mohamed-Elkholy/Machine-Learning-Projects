{
  "cells": [
    {
      "cell_type": "markdown",
      "metadata": {
        "id": "view-in-github",
        "colab_type": "text"
      },
      "source": [
        "<a href=\"https://colab.research.google.com/github/Dr-Mohamed-Elkholy/Machine-Learning-Projects/blob/main/Perceptron.ipynb\" target=\"_parent\"><img src=\"https://colab.research.google.com/assets/colab-badge.svg\" alt=\"Open In Colab\"/></a>"
      ]
    },
    {
      "cell_type": "markdown",
      "metadata": {
        "id": "KInKyCVjsQGl"
      },
      "source": [
        "# Perceptron\n",
        "You should build an end-to-end machine learning pipeline using a perceptron model. In particular, you should do the following:\n",
        "- Load the `mnist` dataset using [Pandas](https://pandas.pydata.org/docs/reference/api/pandas.read_csv.html). You can find this dataset in the datasets folder.\n",
        "- Split the dataset into training and test sets using [Scikit-Learn](https://scikit-learn.org/stable/modules/generated/sklearn.model_selection.train_test_split.html).\n",
        "- Build an end-to-end machine learning pipeline, including a [perceptron](https://scikit-learn.org/stable/modules/generated/sklearn.linear_model.Perceptron.html) model.\n",
        "- Optimize your pipeline by cross-validating your design decisions.\n",
        "- Test the best pipeline on the test set and report various [evaluation metrics](https://scikit-learn.org/0.15/modules/model_evaluation.html).  \n",
        "- Check the documentation to identify the most important hyperparameters, attributes, and methods of the model. Use them in practice."
      ],
      "id": "KInKyCVjsQGl"
    },
    {
      "cell_type": "markdown",
      "source": [
        "## 1. Loading the data"
      ],
      "metadata": {
        "id": "sLOof_FBvzSg"
      },
      "id": "sLOof_FBvzSg"
    },
    {
      "cell_type": "code",
      "source": [
        "# Importing libraies\n",
        "import warnings\n",
        "warnings.filterwarnings('ignore')\n",
        "\n",
        "import pandas as pd\n",
        "from sklearn.model_selection import train_test_split\n",
        "from sklearn.model_selection import GridSearchCV\n",
        "from sklearn.pipeline import Pipeline\n",
        "from sklearn.preprocessing import StandardScaler\n",
        "from sklearn.linear_model import Perceptron\n",
        "from sklearn.neural_network import MLPClassifier\n",
        "from sklearn.metrics import accuracy_score, classification_report\n",
        "import seaborn as sns\n",
        "import matplotlib.pyplot as plt\n",
        "\n"
      ],
      "metadata": {
        "id": "fyZsSh290Shr"
      },
      "id": "fyZsSh290Shr",
      "execution_count": null,
      "outputs": []
    },
    {
      "cell_type": "code",
      "execution_count": null,
      "metadata": {
        "id": "K9UVS_W-sQGo",
        "colab": {
          "base_uri": "https://localhost:8080/",
          "height": 423
        },
        "outputId": "44add475-fbde-47d0-a11d-3bde2eac46c5"
      },
      "outputs": [
        {
          "output_type": "execute_result",
          "data": {
            "text/plain": [
              "              0      1      2      3     4\n",
              "id        31953  34452  60897  36953  1981\n",
              "class         5      8      5      0     3\n",
              "pixel1        0      0      0      0     0\n",
              "pixel2        0      0      0      0     0\n",
              "pixel3        0      0      0      0     0\n",
              "...         ...    ...    ...    ...   ...\n",
              "pixel780      0      0      0      0     0\n",
              "pixel781      0      0      0      0     0\n",
              "pixel782      0      0      0      0     0\n",
              "pixel783      0      0      0      0     0\n",
              "pixel784      0      0      0      0     0\n",
              "\n",
              "[786 rows x 5 columns]"
            ],
            "text/html": [
              "\n",
              "  <div id=\"df-aa8835f9-db3d-4b56-88d4-1d969b81e070\" class=\"colab-df-container\">\n",
              "    <div>\n",
              "<style scoped>\n",
              "    .dataframe tbody tr th:only-of-type {\n",
              "        vertical-align: middle;\n",
              "    }\n",
              "\n",
              "    .dataframe tbody tr th {\n",
              "        vertical-align: top;\n",
              "    }\n",
              "\n",
              "    .dataframe thead th {\n",
              "        text-align: right;\n",
              "    }\n",
              "</style>\n",
              "<table border=\"1\" class=\"dataframe\">\n",
              "  <thead>\n",
              "    <tr style=\"text-align: right;\">\n",
              "      <th></th>\n",
              "      <th>0</th>\n",
              "      <th>1</th>\n",
              "      <th>2</th>\n",
              "      <th>3</th>\n",
              "      <th>4</th>\n",
              "    </tr>\n",
              "  </thead>\n",
              "  <tbody>\n",
              "    <tr>\n",
              "      <th>id</th>\n",
              "      <td>31953</td>\n",
              "      <td>34452</td>\n",
              "      <td>60897</td>\n",
              "      <td>36953</td>\n",
              "      <td>1981</td>\n",
              "    </tr>\n",
              "    <tr>\n",
              "      <th>class</th>\n",
              "      <td>5</td>\n",
              "      <td>8</td>\n",
              "      <td>5</td>\n",
              "      <td>0</td>\n",
              "      <td>3</td>\n",
              "    </tr>\n",
              "    <tr>\n",
              "      <th>pixel1</th>\n",
              "      <td>0</td>\n",
              "      <td>0</td>\n",
              "      <td>0</td>\n",
              "      <td>0</td>\n",
              "      <td>0</td>\n",
              "    </tr>\n",
              "    <tr>\n",
              "      <th>pixel2</th>\n",
              "      <td>0</td>\n",
              "      <td>0</td>\n",
              "      <td>0</td>\n",
              "      <td>0</td>\n",
              "      <td>0</td>\n",
              "    </tr>\n",
              "    <tr>\n",
              "      <th>pixel3</th>\n",
              "      <td>0</td>\n",
              "      <td>0</td>\n",
              "      <td>0</td>\n",
              "      <td>0</td>\n",
              "      <td>0</td>\n",
              "    </tr>\n",
              "    <tr>\n",
              "      <th>...</th>\n",
              "      <td>...</td>\n",
              "      <td>...</td>\n",
              "      <td>...</td>\n",
              "      <td>...</td>\n",
              "      <td>...</td>\n",
              "    </tr>\n",
              "    <tr>\n",
              "      <th>pixel780</th>\n",
              "      <td>0</td>\n",
              "      <td>0</td>\n",
              "      <td>0</td>\n",
              "      <td>0</td>\n",
              "      <td>0</td>\n",
              "    </tr>\n",
              "    <tr>\n",
              "      <th>pixel781</th>\n",
              "      <td>0</td>\n",
              "      <td>0</td>\n",
              "      <td>0</td>\n",
              "      <td>0</td>\n",
              "      <td>0</td>\n",
              "    </tr>\n",
              "    <tr>\n",
              "      <th>pixel782</th>\n",
              "      <td>0</td>\n",
              "      <td>0</td>\n",
              "      <td>0</td>\n",
              "      <td>0</td>\n",
              "      <td>0</td>\n",
              "    </tr>\n",
              "    <tr>\n",
              "      <th>pixel783</th>\n",
              "      <td>0</td>\n",
              "      <td>0</td>\n",
              "      <td>0</td>\n",
              "      <td>0</td>\n",
              "      <td>0</td>\n",
              "    </tr>\n",
              "    <tr>\n",
              "      <th>pixel784</th>\n",
              "      <td>0</td>\n",
              "      <td>0</td>\n",
              "      <td>0</td>\n",
              "      <td>0</td>\n",
              "      <td>0</td>\n",
              "    </tr>\n",
              "  </tbody>\n",
              "</table>\n",
              "<p>786 rows × 5 columns</p>\n",
              "</div>\n",
              "    <div class=\"colab-df-buttons\">\n",
              "\n",
              "  <div class=\"colab-df-container\">\n",
              "    <button class=\"colab-df-convert\" onclick=\"convertToInteractive('df-aa8835f9-db3d-4b56-88d4-1d969b81e070')\"\n",
              "            title=\"Convert this dataframe to an interactive table.\"\n",
              "            style=\"display:none;\">\n",
              "\n",
              "  <svg xmlns=\"http://www.w3.org/2000/svg\" height=\"24px\" viewBox=\"0 -960 960 960\">\n",
              "    <path d=\"M120-120v-720h720v720H120Zm60-500h600v-160H180v160Zm220 220h160v-160H400v160Zm0 220h160v-160H400v160ZM180-400h160v-160H180v160Zm440 0h160v-160H620v160ZM180-180h160v-160H180v160Zm440 0h160v-160H620v160Z\"/>\n",
              "  </svg>\n",
              "    </button>\n",
              "\n",
              "  <style>\n",
              "    .colab-df-container {\n",
              "      display:flex;\n",
              "      gap: 12px;\n",
              "    }\n",
              "\n",
              "    .colab-df-convert {\n",
              "      background-color: #E8F0FE;\n",
              "      border: none;\n",
              "      border-radius: 50%;\n",
              "      cursor: pointer;\n",
              "      display: none;\n",
              "      fill: #1967D2;\n",
              "      height: 32px;\n",
              "      padding: 0 0 0 0;\n",
              "      width: 32px;\n",
              "    }\n",
              "\n",
              "    .colab-df-convert:hover {\n",
              "      background-color: #E2EBFA;\n",
              "      box-shadow: 0px 1px 2px rgba(60, 64, 67, 0.3), 0px 1px 3px 1px rgba(60, 64, 67, 0.15);\n",
              "      fill: #174EA6;\n",
              "    }\n",
              "\n",
              "    .colab-df-buttons div {\n",
              "      margin-bottom: 4px;\n",
              "    }\n",
              "\n",
              "    [theme=dark] .colab-df-convert {\n",
              "      background-color: #3B4455;\n",
              "      fill: #D2E3FC;\n",
              "    }\n",
              "\n",
              "    [theme=dark] .colab-df-convert:hover {\n",
              "      background-color: #434B5C;\n",
              "      box-shadow: 0px 1px 3px 1px rgba(0, 0, 0, 0.15);\n",
              "      filter: drop-shadow(0px 1px 2px rgba(0, 0, 0, 0.3));\n",
              "      fill: #FFFFFF;\n",
              "    }\n",
              "  </style>\n",
              "\n",
              "    <script>\n",
              "      const buttonEl =\n",
              "        document.querySelector('#df-aa8835f9-db3d-4b56-88d4-1d969b81e070 button.colab-df-convert');\n",
              "      buttonEl.style.display =\n",
              "        google.colab.kernel.accessAllowed ? 'block' : 'none';\n",
              "\n",
              "      async function convertToInteractive(key) {\n",
              "        const element = document.querySelector('#df-aa8835f9-db3d-4b56-88d4-1d969b81e070');\n",
              "        const dataTable =\n",
              "          await google.colab.kernel.invokeFunction('convertToInteractive',\n",
              "                                                    [key], {});\n",
              "        if (!dataTable) return;\n",
              "\n",
              "        const docLinkHtml = 'Like what you see? Visit the ' +\n",
              "          '<a target=\"_blank\" href=https://colab.research.google.com/notebooks/data_table.ipynb>data table notebook</a>'\n",
              "          + ' to learn more about interactive tables.';\n",
              "        element.innerHTML = '';\n",
              "        dataTable['output_type'] = 'display_data';\n",
              "        await google.colab.output.renderOutput(dataTable, element);\n",
              "        const docLink = document.createElement('div');\n",
              "        docLink.innerHTML = docLinkHtml;\n",
              "        element.appendChild(docLink);\n",
              "      }\n",
              "    </script>\n",
              "  </div>\n",
              "\n",
              "\n",
              "<div id=\"df-db0ba47d-5a02-4b75-8252-53ecd7480f93\">\n",
              "  <button class=\"colab-df-quickchart\" onclick=\"quickchart('df-db0ba47d-5a02-4b75-8252-53ecd7480f93')\"\n",
              "            title=\"Suggest charts.\"\n",
              "            style=\"display:none;\">\n",
              "\n",
              "<svg xmlns=\"http://www.w3.org/2000/svg\" height=\"24px\"viewBox=\"0 0 24 24\"\n",
              "     width=\"24px\">\n",
              "    <g>\n",
              "        <path d=\"M19 3H5c-1.1 0-2 .9-2 2v14c0 1.1.9 2 2 2h14c1.1 0 2-.9 2-2V5c0-1.1-.9-2-2-2zM9 17H7v-7h2v7zm4 0h-2V7h2v10zm4 0h-2v-4h2v4z\"/>\n",
              "    </g>\n",
              "</svg>\n",
              "  </button>\n",
              "\n",
              "<style>\n",
              "  .colab-df-quickchart {\n",
              "      --bg-color: #E8F0FE;\n",
              "      --fill-color: #1967D2;\n",
              "      --hover-bg-color: #E2EBFA;\n",
              "      --hover-fill-color: #174EA6;\n",
              "      --disabled-fill-color: #AAA;\n",
              "      --disabled-bg-color: #DDD;\n",
              "  }\n",
              "\n",
              "  [theme=dark] .colab-df-quickchart {\n",
              "      --bg-color: #3B4455;\n",
              "      --fill-color: #D2E3FC;\n",
              "      --hover-bg-color: #434B5C;\n",
              "      --hover-fill-color: #FFFFFF;\n",
              "      --disabled-bg-color: #3B4455;\n",
              "      --disabled-fill-color: #666;\n",
              "  }\n",
              "\n",
              "  .colab-df-quickchart {\n",
              "    background-color: var(--bg-color);\n",
              "    border: none;\n",
              "    border-radius: 50%;\n",
              "    cursor: pointer;\n",
              "    display: none;\n",
              "    fill: var(--fill-color);\n",
              "    height: 32px;\n",
              "    padding: 0;\n",
              "    width: 32px;\n",
              "  }\n",
              "\n",
              "  .colab-df-quickchart:hover {\n",
              "    background-color: var(--hover-bg-color);\n",
              "    box-shadow: 0 1px 2px rgba(60, 64, 67, 0.3), 0 1px 3px 1px rgba(60, 64, 67, 0.15);\n",
              "    fill: var(--button-hover-fill-color);\n",
              "  }\n",
              "\n",
              "  .colab-df-quickchart-complete:disabled,\n",
              "  .colab-df-quickchart-complete:disabled:hover {\n",
              "    background-color: var(--disabled-bg-color);\n",
              "    fill: var(--disabled-fill-color);\n",
              "    box-shadow: none;\n",
              "  }\n",
              "\n",
              "  .colab-df-spinner {\n",
              "    border: 2px solid var(--fill-color);\n",
              "    border-color: transparent;\n",
              "    border-bottom-color: var(--fill-color);\n",
              "    animation:\n",
              "      spin 1s steps(1) infinite;\n",
              "  }\n",
              "\n",
              "  @keyframes spin {\n",
              "    0% {\n",
              "      border-color: transparent;\n",
              "      border-bottom-color: var(--fill-color);\n",
              "      border-left-color: var(--fill-color);\n",
              "    }\n",
              "    20% {\n",
              "      border-color: transparent;\n",
              "      border-left-color: var(--fill-color);\n",
              "      border-top-color: var(--fill-color);\n",
              "    }\n",
              "    30% {\n",
              "      border-color: transparent;\n",
              "      border-left-color: var(--fill-color);\n",
              "      border-top-color: var(--fill-color);\n",
              "      border-right-color: var(--fill-color);\n",
              "    }\n",
              "    40% {\n",
              "      border-color: transparent;\n",
              "      border-right-color: var(--fill-color);\n",
              "      border-top-color: var(--fill-color);\n",
              "    }\n",
              "    60% {\n",
              "      border-color: transparent;\n",
              "      border-right-color: var(--fill-color);\n",
              "    }\n",
              "    80% {\n",
              "      border-color: transparent;\n",
              "      border-right-color: var(--fill-color);\n",
              "      border-bottom-color: var(--fill-color);\n",
              "    }\n",
              "    90% {\n",
              "      border-color: transparent;\n",
              "      border-bottom-color: var(--fill-color);\n",
              "    }\n",
              "  }\n",
              "</style>\n",
              "\n",
              "  <script>\n",
              "    async function quickchart(key) {\n",
              "      const quickchartButtonEl =\n",
              "        document.querySelector('#' + key + ' button');\n",
              "      quickchartButtonEl.disabled = true;  // To prevent multiple clicks.\n",
              "      quickchartButtonEl.classList.add('colab-df-spinner');\n",
              "      try {\n",
              "        const charts = await google.colab.kernel.invokeFunction(\n",
              "            'suggestCharts', [key], {});\n",
              "      } catch (error) {\n",
              "        console.error('Error during call to suggestCharts:', error);\n",
              "      }\n",
              "      quickchartButtonEl.classList.remove('colab-df-spinner');\n",
              "      quickchartButtonEl.classList.add('colab-df-quickchart-complete');\n",
              "    }\n",
              "    (() => {\n",
              "      let quickchartButtonEl =\n",
              "        document.querySelector('#df-db0ba47d-5a02-4b75-8252-53ecd7480f93 button');\n",
              "      quickchartButtonEl.style.display =\n",
              "        google.colab.kernel.accessAllowed ? 'block' : 'none';\n",
              "    })();\n",
              "  </script>\n",
              "</div>\n",
              "    </div>\n",
              "  </div>\n"
            ]
          },
          "metadata": {},
          "execution_count": 35
        }
      ],
      "source": [
        "\n",
        "\n",
        "# Loading the dataset\n",
        "mnist_data = pd.read_csv(\"mnist.csv\")\n",
        "mnist_data.head().T\n"
      ],
      "id": "K9UVS_W-sQGo"
    },
    {
      "cell_type": "markdown",
      "source": [
        "## 2. Preprocessing\n"
      ],
      "metadata": {
        "id": "CY1tHWY5wM0t"
      },
      "id": "CY1tHWY5wM0t"
    },
    {
      "cell_type": "code",
      "source": [
        "# Dropping the 'id' column\n",
        "mnist_data = mnist_data.drop(columns=['id'])\n",
        "\n",
        "# Splitting the dataset\n",
        "X = mnist_data.drop(columns=['class'])\n",
        "y = mnist_data['class']\n",
        "\n"
      ],
      "metadata": {
        "id": "inUR2h3HwfHb"
      },
      "id": "inUR2h3HwfHb",
      "execution_count": null,
      "outputs": []
    },
    {
      "cell_type": "markdown",
      "source": [
        "## Split the dataset into training and test sets"
      ],
      "metadata": {
        "id": "f7ryVF3Uw1SK"
      },
      "id": "f7ryVF3Uw1SK"
    },
    {
      "cell_type": "code",
      "source": [
        "\n",
        "\n",
        "# Splitting the data\n",
        "X_train, X_test, y_train, y_test = train_test_split(X, y, test_size=0.2)\n",
        "\n",
        "# Displaying the shape\n",
        "X_train.shape, X_test.shape, y_train.shape, y_test.shape\n"
      ],
      "metadata": {
        "colab": {
          "base_uri": "https://localhost:8080/"
        },
        "id": "sYm9pf5uxa4K",
        "outputId": "139bc8ac-ddfc-4296-f6df-af280a147914"
      },
      "id": "sYm9pf5uxa4K",
      "execution_count": null,
      "outputs": [
        {
          "output_type": "execute_result",
          "data": {
            "text/plain": [
              "((3200, 784), (800, 784), (3200,), (800,))"
            ]
          },
          "metadata": {},
          "execution_count": 37
        }
      ]
    },
    {
      "cell_type": "markdown",
      "source": [
        "## optimize using the GridSearch -  cross validation"
      ],
      "metadata": {
        "id": "4Hxb3tvoyhIt"
      },
      "id": "4Hxb3tvoyhIt"
    },
    {
      "cell_type": "code",
      "source": [
        "\n",
        "\n",
        "# Defining the hyperparameters grid to search\n",
        "param_grid = {\n",
        "    'perceptron__max_iter': [10, 50, 100, 200],\n",
        "    'perceptron__eta0': [0.0001, 0.001, 0.01, 0.1]\n",
        "}\n",
        "\n",
        "pipeline = Pipeline([\n",
        "    ('scaler', StandardScaler()),\n",
        "    ('perceptron', Perceptron())\n",
        "])\n",
        "\n",
        "# Setting up GridSearchCV\n",
        "grid_search = GridSearchCV(pipeline, param_grid, cv=5, verbose=1)\n",
        "\n",
        "# Fitting\n",
        "grid_search.fit(X_train, y_train)\n",
        "\n",
        "# Extracting the best hyperparameters\n",
        "best_params = grid_search.best_params_\n",
        "\n",
        "print(best_params)\n"
      ],
      "metadata": {
        "colab": {
          "base_uri": "https://localhost:8080/"
        },
        "id": "eN-5QBPPynH7",
        "outputId": "0ee02953-383f-4cd2-b6d7-b8ddad27a51a"
      },
      "id": "eN-5QBPPynH7",
      "execution_count": null,
      "outputs": [
        {
          "output_type": "stream",
          "name": "stdout",
          "text": [
            "Fitting 5 folds for each of 16 candidates, totalling 80 fits\n"
          ]
        }
      ]
    },
    {
      "cell_type": "markdown",
      "source": [
        "## Build machine learning pipeline\n",
        "\n",
        "will use the 'StandardScaler' to scale pixel values"
      ],
      "metadata": {
        "id": "-W1G7jIhxv_i"
      },
      "id": "-W1G7jIhxv_i"
    },
    {
      "cell_type": "code",
      "source": [
        "\n",
        "\n",
        "# Setting up the pipeline with preprocessing and the Perceptron model\n",
        "pipeline = Pipeline([\n",
        "    ('scaler', StandardScaler()),\n",
        "    ('perceptron', Perceptron(eta0=0.1, max_iter=50))\n",
        "])\n",
        "\n",
        "# Fitting the pipeline to the training data\n",
        "pipeline.fit(X_train, y_train)\n",
        "\n",
        "# Confirmation message\n",
        "\"Pipeline has been doooooone\"\n"
      ],
      "metadata": {
        "colab": {
          "base_uri": "https://localhost:8080/",
          "height": 36
        },
        "id": "zYMUuQSsyJ5X",
        "outputId": "38f02ade-bb87-4cc9-ba03-0868dd53fbbf"
      },
      "id": "zYMUuQSsyJ5X",
      "execution_count": null,
      "outputs": [
        {
          "output_type": "execute_result",
          "data": {
            "text/plain": [
              "'Pipeline has been doooooone'"
            ],
            "application/vnd.google.colaboratory.intrinsic+json": {
              "type": "string"
            }
          },
          "metadata": {},
          "execution_count": 8
        }
      ]
    },
    {
      "cell_type": "markdown",
      "source": [
        "## Test on the data set"
      ],
      "metadata": {
        "id": "--kPOdn91iaD"
      },
      "id": "--kPOdn91iaD"
    },
    {
      "cell_type": "code",
      "source": [
        "\n",
        "\n",
        "# Predicting\n",
        "y_pred = pipeline.predict(X_test)\n",
        "\n",
        "# Calculating the accuracy on the test set\n",
        "test_accuracy = accuracy_score(y_test, y_pred)\n",
        "print('The test accuracy is ' , test_accuracy)\n",
        "\n",
        "\n",
        "# Converting the classification report into a DataFrame\n",
        "report_df = pd.DataFrame.from_dict(classification_report(y_test, y_pred, output_dict=True)).T\n",
        "\n",
        "# Rounding 2\n",
        "report_df = report_df.round(2)\n",
        "\n",
        "print(report_df)\n"
      ],
      "metadata": {
        "colab": {
          "base_uri": "https://localhost:8080/"
        },
        "id": "zmZWoLAP1n0p",
        "outputId": "84102926-af02-4d90-b0a5-cf178787eee0"
      },
      "id": "zmZWoLAP1n0p",
      "execution_count": null,
      "outputs": [
        {
          "output_type": "stream",
          "name": "stdout",
          "text": [
            "The test accuracy is  0.82875\n",
            "              precision  recall  f1-score  support\n",
            "0                  0.94    0.94      0.94    70.00\n",
            "1                  0.93    0.85      0.89   100.00\n",
            "2                  0.76    0.79      0.78    73.00\n",
            "3                  0.85    0.79      0.82    86.00\n",
            "4                  0.82    0.92      0.87    80.00\n",
            "5                  0.67    0.67      0.67    64.00\n",
            "6                  0.83    0.88      0.85    90.00\n",
            "7                  0.86    0.90      0.88    67.00\n",
            "8                  0.78    0.79      0.78    94.00\n",
            "9                  0.81    0.74      0.77    76.00\n",
            "accuracy           0.83    0.83      0.83     0.83\n",
            "macro avg          0.83    0.83      0.83   800.00\n",
            "weighted avg       0.83    0.83      0.83   800.00\n"
          ]
        }
      ]
    },
    {
      "cell_type": "markdown",
      "source": [
        "## Visualizing the results on heatmap"
      ],
      "metadata": {
        "id": "MSGVPfUs37LH"
      },
      "id": "MSGVPfUs37LH"
    },
    {
      "cell_type": "code",
      "source": [
        "\n",
        "# Defining which on the heatmap\n",
        "heatmap_data = report_df.iloc[:-3, :-1]  # Excluding 'support' and average values for simplicity\n",
        "\n",
        "# Plotting the heatmap\n",
        "plt.figure(figsize=(10, 8))\n",
        "sns.heatmap(heatmap_data, annot=True, cmap='Blues', fmt=\".2f\", linewidths=0.5)\n",
        "plt.title(\"Classification Metrics per Class\")\n",
        "plt.show()\n"
      ],
      "metadata": {
        "colab": {
          "base_uri": "https://localhost:8080/",
          "height": 699
        },
        "id": "GBx5YPhc3_f-",
        "outputId": "d745fb4c-e7bb-4c2c-c624-ba5d7e0f3572"
      },
      "id": "GBx5YPhc3_f-",
      "execution_count": null,
      "outputs": [
        {
          "output_type": "display_data",
          "data": {
            "text/plain": [
              "<Figure size 1000x800 with 2 Axes>"
            ],
            "image/png": "[encoded data removed]"
          },
          "metadata": {}
        }
      ]
    },
    {
      "cell_type": "markdown",
      "source": [
        "# MLPClassifier"
      ],
      "metadata": {
        "id": "yo-9Sur-1dBv"
      },
      "id": "yo-9Sur-1dBv"
    },
    {
      "cell_type": "code",
      "source": [
        "\n",
        "\n",
        "# Setting up and training the MLPClassifier\n",
        "mlp_class = MLPClassifier(max_iter=600, hidden_layer_sizes=(400,))\n",
        "mlp_class.fit(X_train, y_train)\n",
        "\n",
        "# Predicting\n",
        "mlp_pred = mlp_class.predict(X_test)\n",
        "\n",
        "# classification report\n",
        "mlp_report = classification_report(y_test, mlp_pred, output_dict=True)\n",
        "\n",
        "# Converting the classification report into a DataFrame\n",
        "mlp_report_df = pd.DataFrame(mlp_report).T.round(2)\n",
        "\n"
      ],
      "metadata": {
        "id": "1oWxjEBX2Bp-"
      },
      "id": "1oWxjEBX2Bp-",
      "execution_count": null,
      "outputs": []
    },
    {
      "cell_type": "code",
      "source": [
        "print(mlp_report_df)"
      ],
      "metadata": {
        "colab": {
          "base_uri": "https://localhost:8080/"
        },
        "id": "MH5FcbgY2tEM",
        "outputId": "485138bc-aab6-4358-8961-bc81965f7a8b"
      },
      "id": "MH5FcbgY2tEM",
      "execution_count": null,
      "outputs": [
        {
          "output_type": "stream",
          "name": "stdout",
          "text": [
            "              precision  recall  f1-score  support\n",
            "0                  0.93    0.97      0.95    70.00\n",
            "1                  0.93    0.93      0.93   100.00\n",
            "2                  0.86    0.75      0.80    73.00\n",
            "3                  0.83    0.80      0.82    86.00\n",
            "4                  0.87    0.84      0.85    80.00\n",
            "5                  0.71    0.75      0.73    64.00\n",
            "6                  0.87    0.92      0.90    90.00\n",
            "7                  0.84    0.85      0.84    67.00\n",
            "8                  0.83    0.82      0.82    94.00\n",
            "9                  0.77    0.80      0.79    76.00\n",
            "accuracy           0.85    0.85      0.85     0.85\n",
            "macro avg          0.84    0.84      0.84   800.00\n",
            "weighted avg       0.85    0.85      0.85   800.00\n"
          ]
        }
      ]
    },
    {
      "cell_type": "code",
      "source": [],
      "metadata": {
        "id": "Io-vp9zp3p8J"
      },
      "id": "Io-vp9zp3p8J",
      "execution_count": null,
      "outputs": []
    }
  ],
  "metadata": {
    "kernelspec": {
      "display_name": "Python 3",
      "language": "python",
      "name": "python3"
    },
    "language_info": {
      "codemirror_mode": {
        "name": "ipython",
        "version": 3
      },
      "file_extension": ".py",
      "mimetype": "text/x-python",
      "name": "python",
      "nbconvert_exporter": "python",
      "pygments_lexer": "ipython3",
      "version": "3.8.5"
    },
    "colab": {
      "provenance": [],
      "include_colab_link": true
    }
  },
  "nbformat": 4,
  "nbformat_minor": 5
}